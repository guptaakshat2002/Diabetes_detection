{
 "cells": [
  {
   "cell_type": "code",
   "execution_count": null,
   "metadata": {},
   "outputs": [],
   "source": [
   "import pandas as pd\n",
   "import numpy as np\n",
   "import matplotlib.pyplot as plt\n",
   "import seaborn as sns\n",
   "import warnings  #avoid warning flash\n",
   "warnings.filterwarnings('ignore')"

   ]
  },


